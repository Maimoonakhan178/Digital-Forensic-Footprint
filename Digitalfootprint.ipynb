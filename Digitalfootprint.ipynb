{
 "cells": [
  {
   "cell_type": "markdown",
   "metadata": {},
   "source": [
    "                                                           EXPLORATORY DATA ANALYSIS"
   ]
  },
  {
   "cell_type": "markdown",
   "metadata": {},
   "source": [
    "Importing Necessary Libraries"
   ]
  },
  {
   "cell_type": "code",
   "execution_count": 2,
   "metadata": {},
   "outputs": [],
   "source": [
    "import numpy as np\n",
    "import pandas as pd\n",
    "from scipy import stats\n",
    "import matplotlib.pyplot as plt\n",
    "import seaborn as sns\n",
    "from sklearn.preprocessing import StandardScaler\n",
    "from sklearn.decomposition import PCA\n",
    "from sklearn.model_selection import train_test_split\n",
    "from sklearn.linear_model import LogisticRegression\n",
    "from sklearn.metrics import accuracy_score\n",
    "from sklearn.discriminant_analysis import LinearDiscriminantAnalysis"
   ]
  },
  {
   "cell_type": "markdown",
   "metadata": {},
   "source": [
    "Loading and Examining Dataset"
   ]
  },
  {
   "cell_type": "code",
   "execution_count": 3,
   "metadata": {},
   "outputs": [
    {
     "data": {
      "text/html": [
       "<div>\n",
       "<style scoped>\n",
       "    .dataframe tbody tr th:only-of-type {\n",
       "        vertical-align: middle;\n",
       "    }\n",
       "\n",
       "    .dataframe tbody tr th {\n",
       "        vertical-align: top;\n",
       "    }\n",
       "\n",
       "    .dataframe thead th {\n",
       "        text-align: right;\n",
       "    }\n",
       "</style>\n",
       "<table border=\"1\" class=\"dataframe\">\n",
       "  <thead>\n",
       "    <tr style=\"text-align: right;\">\n",
       "      <th></th>\n",
       "      <th>mbti_type</th>\n",
       "      <th>post_AskRedditAfterDark</th>\n",
       "      <th>post_unpopularopinion</th>\n",
       "      <th>post_introvert</th>\n",
       "      <th>post_UnpopularFacts</th>\n",
       "      <th>post_changemyview</th>\n",
       "      <th>post_nihilism</th>\n",
       "      <th>post_IntellectualDarkWeb</th>\n",
       "      <th>post_todayilearned</th>\n",
       "      <th>post_banned</th>\n",
       "      <th>...</th>\n",
       "      <th>comment_actual_detrans</th>\n",
       "      <th>comment_dearbrother</th>\n",
       "      <th>comment_battlefield_4</th>\n",
       "      <th>comment_fixingmovies</th>\n",
       "      <th>comment_AFD</th>\n",
       "      <th>comment_Actage</th>\n",
       "      <th>comment_sariyerbelediyesi</th>\n",
       "      <th>comment_Ben10</th>\n",
       "      <th>comment_MKMemes</th>\n",
       "      <th>comment_PIED</th>\n",
       "    </tr>\n",
       "  </thead>\n",
       "  <tbody>\n",
       "    <tr>\n",
       "      <th>0</th>\n",
       "      <td>INTP</td>\n",
       "      <td>3</td>\n",
       "      <td>31</td>\n",
       "      <td>3</td>\n",
       "      <td>1</td>\n",
       "      <td>4</td>\n",
       "      <td>1</td>\n",
       "      <td>1</td>\n",
       "      <td>3</td>\n",
       "      <td>1</td>\n",
       "      <td>...</td>\n",
       "      <td>0</td>\n",
       "      <td>0</td>\n",
       "      <td>0</td>\n",
       "      <td>0</td>\n",
       "      <td>0</td>\n",
       "      <td>0</td>\n",
       "      <td>0</td>\n",
       "      <td>0</td>\n",
       "      <td>0</td>\n",
       "      <td>0</td>\n",
       "    </tr>\n",
       "    <tr>\n",
       "      <th>1</th>\n",
       "      <td>ENTP</td>\n",
       "      <td>0</td>\n",
       "      <td>0</td>\n",
       "      <td>0</td>\n",
       "      <td>0</td>\n",
       "      <td>0</td>\n",
       "      <td>0</td>\n",
       "      <td>0</td>\n",
       "      <td>0</td>\n",
       "      <td>0</td>\n",
       "      <td>...</td>\n",
       "      <td>0</td>\n",
       "      <td>0</td>\n",
       "      <td>0</td>\n",
       "      <td>0</td>\n",
       "      <td>0</td>\n",
       "      <td>0</td>\n",
       "      <td>0</td>\n",
       "      <td>0</td>\n",
       "      <td>0</td>\n",
       "      <td>0</td>\n",
       "    </tr>\n",
       "    <tr>\n",
       "      <th>2</th>\n",
       "      <td>INFJ</td>\n",
       "      <td>0</td>\n",
       "      <td>0</td>\n",
       "      <td>0</td>\n",
       "      <td>0</td>\n",
       "      <td>0</td>\n",
       "      <td>0</td>\n",
       "      <td>0</td>\n",
       "      <td>0</td>\n",
       "      <td>0</td>\n",
       "      <td>...</td>\n",
       "      <td>0</td>\n",
       "      <td>0</td>\n",
       "      <td>0</td>\n",
       "      <td>0</td>\n",
       "      <td>0</td>\n",
       "      <td>0</td>\n",
       "      <td>0</td>\n",
       "      <td>0</td>\n",
       "      <td>0</td>\n",
       "      <td>0</td>\n",
       "    </tr>\n",
       "    <tr>\n",
       "      <th>3</th>\n",
       "      <td>INFP</td>\n",
       "      <td>0</td>\n",
       "      <td>0</td>\n",
       "      <td>0</td>\n",
       "      <td>0</td>\n",
       "      <td>0</td>\n",
       "      <td>0</td>\n",
       "      <td>0</td>\n",
       "      <td>0</td>\n",
       "      <td>0</td>\n",
       "      <td>...</td>\n",
       "      <td>0</td>\n",
       "      <td>0</td>\n",
       "      <td>0</td>\n",
       "      <td>0</td>\n",
       "      <td>0</td>\n",
       "      <td>0</td>\n",
       "      <td>0</td>\n",
       "      <td>0</td>\n",
       "      <td>0</td>\n",
       "      <td>0</td>\n",
       "    </tr>\n",
       "    <tr>\n",
       "      <th>4</th>\n",
       "      <td>ENTP</td>\n",
       "      <td>0</td>\n",
       "      <td>0</td>\n",
       "      <td>0</td>\n",
       "      <td>0</td>\n",
       "      <td>0</td>\n",
       "      <td>0</td>\n",
       "      <td>0</td>\n",
       "      <td>0</td>\n",
       "      <td>0</td>\n",
       "      <td>...</td>\n",
       "      <td>0</td>\n",
       "      <td>0</td>\n",
       "      <td>0</td>\n",
       "      <td>0</td>\n",
       "      <td>0</td>\n",
       "      <td>0</td>\n",
       "      <td>0</td>\n",
       "      <td>0</td>\n",
       "      <td>0</td>\n",
       "      <td>0</td>\n",
       "    </tr>\n",
       "  </tbody>\n",
       "</table>\n",
       "<p>5 rows × 27091 columns</p>\n",
       "</div>"
      ],
      "text/plain": [
       "  mbti_type  post_AskRedditAfterDark  post_unpopularopinion  post_introvert  \\\n",
       "0      INTP                        3                     31               3   \n",
       "1      ENTP                        0                      0               0   \n",
       "2      INFJ                        0                      0               0   \n",
       "3      INFP                        0                      0               0   \n",
       "4      ENTP                        0                      0               0   \n",
       "\n",
       "   post_UnpopularFacts  post_changemyview  post_nihilism  \\\n",
       "0                    1                  4              1   \n",
       "1                    0                  0              0   \n",
       "2                    0                  0              0   \n",
       "3                    0                  0              0   \n",
       "4                    0                  0              0   \n",
       "\n",
       "   post_IntellectualDarkWeb  post_todayilearned  post_banned  ...  \\\n",
       "0                         1                   3            1  ...   \n",
       "1                         0                   0            0  ...   \n",
       "2                         0                   0            0  ...   \n",
       "3                         0                   0            0  ...   \n",
       "4                         0                   0            0  ...   \n",
       "\n",
       "   comment_actual_detrans  comment_dearbrother  comment_battlefield_4  \\\n",
       "0                       0                    0                      0   \n",
       "1                       0                    0                      0   \n",
       "2                       0                    0                      0   \n",
       "3                       0                    0                      0   \n",
       "4                       0                    0                      0   \n",
       "\n",
       "   comment_fixingmovies  comment_AFD  comment_Actage  \\\n",
       "0                     0            0               0   \n",
       "1                     0            0               0   \n",
       "2                     0            0               0   \n",
       "3                     0            0               0   \n",
       "4                     0            0               0   \n",
       "\n",
       "   comment_sariyerbelediyesi  comment_Ben10  comment_MKMemes  comment_PIED  \n",
       "0                          0              0                0             0  \n",
       "1                          0              0                0             0  \n",
       "2                          0              0                0             0  \n",
       "3                          0              0                0             0  \n",
       "4                          0              0                0             0  \n",
       "\n",
       "[5 rows x 27091 columns]"
      ]
     },
     "execution_count": 3,
     "metadata": {},
     "output_type": "execute_result"
    }
   ],
   "source": [
    "Digital_footprint = pd.read_csv(\"C:\\\\Users\\\\MBG Traders\\\\Desktop\\\\Forensic Analysis of Digital Footprint\\\\reddit_psychometric_data.csv\")\n",
    "Digital_footprint.head()"
   ]
  },
  {
   "cell_type": "markdown",
   "metadata": {},
   "source": [
    "Checking how many Rows and Columns it has "
   ]
  },
  {
   "cell_type": "code",
   "execution_count": 4,
   "metadata": {},
   "outputs": [
    {
     "data": {
      "text/plain": [
       "(3586, 27091)"
      ]
     },
     "execution_count": 4,
     "metadata": {},
     "output_type": "execute_result"
    }
   ],
   "source": [
    "Digital_footprint.shape"
   ]
  },
  {
   "cell_type": "markdown",
   "metadata": {},
   "source": [
    "Checking whether it has any null values or not"
   ]
  },
  {
   "cell_type": "code",
   "execution_count": 5,
   "metadata": {},
   "outputs": [
    {
     "name": "stdout",
     "output_type": "stream",
     "text": [
      "The Sum Value of Missing Values is 0\n"
     ]
    }
   ],
   "source": [
    "print(\"The Sum Value of Missing Values is\",Digital_footprint.isnull().any().sum())"
   ]
  },
  {
   "cell_type": "markdown",
   "metadata": {},
   "source": [
    "As Dataset has no missing values further we go to check duplicated values"
   ]
  },
  {
   "cell_type": "code",
   "execution_count": 6,
   "metadata": {},
   "outputs": [
    {
     "name": "stdout",
     "output_type": "stream",
     "text": [
      "The Sum Value of Duplicated Values is 6\n"
     ]
    }
   ],
   "source": [
    "print(\"The Sum Value of Duplicated Values is\", Digital_footprint.duplicated().sum())"
   ]
  },
  {
   "cell_type": "markdown",
   "metadata": {},
   "source": [
    "As we have 6 duplicated values in our dataset we clean it by removing duplicated values"
   ]
  },
  {
   "cell_type": "code",
   "execution_count": 7,
   "metadata": {},
   "outputs": [
    {
     "name": "stdout",
     "output_type": "stream",
     "text": [
      "This is the Data after Removing Duplicated Values None\n"
     ]
    }
   ],
   "source": [
    "print(\"This is the Data after Removing Duplicated Values\", Digital_footprint.drop_duplicates(inplace=True))\n",
    "\n",
    "\n",
    "\n",
    "#This is the Data after Removing Duplicated Values"
   ]
  },
  {
   "cell_type": "markdown",
   "metadata": {},
   "source": [
    "Rechechking the dataset to make sure duplicated values are removed"
   ]
  },
  {
   "cell_type": "code",
   "execution_count": 8,
   "metadata": {},
   "outputs": [
    {
     "data": {
      "text/plain": [
       "(3580, 27091)"
      ]
     },
     "execution_count": 8,
     "metadata": {},
     "output_type": "execute_result"
    }
   ],
   "source": [
    "Digital_footprint.shape"
   ]
  },
  {
   "cell_type": "markdown",
   "metadata": {},
   "source": [
    "Checking Summary of Statistics"
   ]
  },
  {
   "cell_type": "code",
   "execution_count": 9,
   "metadata": {},
   "outputs": [
    {
     "data": {
      "text/html": [
       "<div>\n",
       "<style scoped>\n",
       "    .dataframe tbody tr th:only-of-type {\n",
       "        vertical-align: middle;\n",
       "    }\n",
       "\n",
       "    .dataframe tbody tr th {\n",
       "        vertical-align: top;\n",
       "    }\n",
       "\n",
       "    .dataframe thead th {\n",
       "        text-align: right;\n",
       "    }\n",
       "</style>\n",
       "<table border=\"1\" class=\"dataframe\">\n",
       "  <thead>\n",
       "    <tr style=\"text-align: right;\">\n",
       "      <th></th>\n",
       "      <th>post_AskRedditAfterDark</th>\n",
       "      <th>post_unpopularopinion</th>\n",
       "      <th>post_introvert</th>\n",
       "      <th>post_UnpopularFacts</th>\n",
       "      <th>post_changemyview</th>\n",
       "      <th>post_nihilism</th>\n",
       "      <th>post_IntellectualDarkWeb</th>\n",
       "      <th>post_todayilearned</th>\n",
       "      <th>post_banned</th>\n",
       "      <th>post_movies</th>\n",
       "      <th>...</th>\n",
       "      <th>comment_actual_detrans</th>\n",
       "      <th>comment_dearbrother</th>\n",
       "      <th>comment_battlefield_4</th>\n",
       "      <th>comment_fixingmovies</th>\n",
       "      <th>comment_AFD</th>\n",
       "      <th>comment_Actage</th>\n",
       "      <th>comment_sariyerbelediyesi</th>\n",
       "      <th>comment_Ben10</th>\n",
       "      <th>comment_MKMemes</th>\n",
       "      <th>comment_PIED</th>\n",
       "    </tr>\n",
       "  </thead>\n",
       "  <tbody>\n",
       "    <tr>\n",
       "      <th>count</th>\n",
       "      <td>3580.000000</td>\n",
       "      <td>3580.000000</td>\n",
       "      <td>3580.000000</td>\n",
       "      <td>3580.000000</td>\n",
       "      <td>3580.000000</td>\n",
       "      <td>3580.000000</td>\n",
       "      <td>3580.000000</td>\n",
       "      <td>3580.000000</td>\n",
       "      <td>3580.000000</td>\n",
       "      <td>3580.000000</td>\n",
       "      <td>...</td>\n",
       "      <td>3580.000000</td>\n",
       "      <td>3580.000000</td>\n",
       "      <td>3580.000000</td>\n",
       "      <td>3580.000000</td>\n",
       "      <td>3580.000000</td>\n",
       "      <td>3580.000000</td>\n",
       "      <td>3580.000000</td>\n",
       "      <td>3580.000000</td>\n",
       "      <td>3580.000000</td>\n",
       "      <td>3580.000000</td>\n",
       "    </tr>\n",
       "    <tr>\n",
       "      <th>mean</th>\n",
       "      <td>0.002235</td>\n",
       "      <td>0.171229</td>\n",
       "      <td>0.023743</td>\n",
       "      <td>0.000559</td>\n",
       "      <td>0.015084</td>\n",
       "      <td>0.004190</td>\n",
       "      <td>0.000559</td>\n",
       "      <td>0.028212</td>\n",
       "      <td>0.002793</td>\n",
       "      <td>0.027095</td>\n",
       "      <td>...</td>\n",
       "      <td>0.000279</td>\n",
       "      <td>0.000279</td>\n",
       "      <td>0.001676</td>\n",
       "      <td>0.000279</td>\n",
       "      <td>0.000279</td>\n",
       "      <td>0.000279</td>\n",
       "      <td>0.000838</td>\n",
       "      <td>0.000279</td>\n",
       "      <td>0.000838</td>\n",
       "      <td>0.000559</td>\n",
       "    </tr>\n",
       "    <tr>\n",
       "      <th>std</th>\n",
       "      <td>0.066825</td>\n",
       "      <td>1.189978</td>\n",
       "      <td>0.305021</td>\n",
       "      <td>0.023633</td>\n",
       "      <td>0.200018</td>\n",
       "      <td>0.076485</td>\n",
       "      <td>0.023633</td>\n",
       "      <td>0.282759</td>\n",
       "      <td>0.052785</td>\n",
       "      <td>0.708857</td>\n",
       "      <td>...</td>\n",
       "      <td>0.016713</td>\n",
       "      <td>0.016713</td>\n",
       "      <td>0.100279</td>\n",
       "      <td>0.016713</td>\n",
       "      <td>0.016713</td>\n",
       "      <td>0.016713</td>\n",
       "      <td>0.050139</td>\n",
       "      <td>0.016713</td>\n",
       "      <td>0.050139</td>\n",
       "      <td>0.033426</td>\n",
       "    </tr>\n",
       "    <tr>\n",
       "      <th>min</th>\n",
       "      <td>0.000000</td>\n",
       "      <td>0.000000</td>\n",
       "      <td>0.000000</td>\n",
       "      <td>0.000000</td>\n",
       "      <td>0.000000</td>\n",
       "      <td>0.000000</td>\n",
       "      <td>0.000000</td>\n",
       "      <td>0.000000</td>\n",
       "      <td>0.000000</td>\n",
       "      <td>0.000000</td>\n",
       "      <td>...</td>\n",
       "      <td>0.000000</td>\n",
       "      <td>0.000000</td>\n",
       "      <td>0.000000</td>\n",
       "      <td>0.000000</td>\n",
       "      <td>0.000000</td>\n",
       "      <td>0.000000</td>\n",
       "      <td>0.000000</td>\n",
       "      <td>0.000000</td>\n",
       "      <td>0.000000</td>\n",
       "      <td>0.000000</td>\n",
       "    </tr>\n",
       "    <tr>\n",
       "      <th>25%</th>\n",
       "      <td>0.000000</td>\n",
       "      <td>0.000000</td>\n",
       "      <td>0.000000</td>\n",
       "      <td>0.000000</td>\n",
       "      <td>0.000000</td>\n",
       "      <td>0.000000</td>\n",
       "      <td>0.000000</td>\n",
       "      <td>0.000000</td>\n",
       "      <td>0.000000</td>\n",
       "      <td>0.000000</td>\n",
       "      <td>...</td>\n",
       "      <td>0.000000</td>\n",
       "      <td>0.000000</td>\n",
       "      <td>0.000000</td>\n",
       "      <td>0.000000</td>\n",
       "      <td>0.000000</td>\n",
       "      <td>0.000000</td>\n",
       "      <td>0.000000</td>\n",
       "      <td>0.000000</td>\n",
       "      <td>0.000000</td>\n",
       "      <td>0.000000</td>\n",
       "    </tr>\n",
       "    <tr>\n",
       "      <th>50%</th>\n",
       "      <td>0.000000</td>\n",
       "      <td>0.000000</td>\n",
       "      <td>0.000000</td>\n",
       "      <td>0.000000</td>\n",
       "      <td>0.000000</td>\n",
       "      <td>0.000000</td>\n",
       "      <td>0.000000</td>\n",
       "      <td>0.000000</td>\n",
       "      <td>0.000000</td>\n",
       "      <td>0.000000</td>\n",
       "      <td>...</td>\n",
       "      <td>0.000000</td>\n",
       "      <td>0.000000</td>\n",
       "      <td>0.000000</td>\n",
       "      <td>0.000000</td>\n",
       "      <td>0.000000</td>\n",
       "      <td>0.000000</td>\n",
       "      <td>0.000000</td>\n",
       "      <td>0.000000</td>\n",
       "      <td>0.000000</td>\n",
       "      <td>0.000000</td>\n",
       "    </tr>\n",
       "    <tr>\n",
       "      <th>75%</th>\n",
       "      <td>0.000000</td>\n",
       "      <td>0.000000</td>\n",
       "      <td>0.000000</td>\n",
       "      <td>0.000000</td>\n",
       "      <td>0.000000</td>\n",
       "      <td>0.000000</td>\n",
       "      <td>0.000000</td>\n",
       "      <td>0.000000</td>\n",
       "      <td>0.000000</td>\n",
       "      <td>0.000000</td>\n",
       "      <td>...</td>\n",
       "      <td>0.000000</td>\n",
       "      <td>0.000000</td>\n",
       "      <td>0.000000</td>\n",
       "      <td>0.000000</td>\n",
       "      <td>0.000000</td>\n",
       "      <td>0.000000</td>\n",
       "      <td>0.000000</td>\n",
       "      <td>0.000000</td>\n",
       "      <td>0.000000</td>\n",
       "      <td>0.000000</td>\n",
       "    </tr>\n",
       "    <tr>\n",
       "      <th>max</th>\n",
       "      <td>3.000000</td>\n",
       "      <td>31.000000</td>\n",
       "      <td>13.000000</td>\n",
       "      <td>1.000000</td>\n",
       "      <td>7.000000</td>\n",
       "      <td>2.000000</td>\n",
       "      <td>1.000000</td>\n",
       "      <td>7.000000</td>\n",
       "      <td>1.000000</td>\n",
       "      <td>40.000000</td>\n",
       "      <td>...</td>\n",
       "      <td>1.000000</td>\n",
       "      <td>1.000000</td>\n",
       "      <td>6.000000</td>\n",
       "      <td>1.000000</td>\n",
       "      <td>1.000000</td>\n",
       "      <td>1.000000</td>\n",
       "      <td>3.000000</td>\n",
       "      <td>1.000000</td>\n",
       "      <td>3.000000</td>\n",
       "      <td>2.000000</td>\n",
       "    </tr>\n",
       "  </tbody>\n",
       "</table>\n",
       "<p>8 rows × 27090 columns</p>\n",
       "</div>"
      ],
      "text/plain": [
       "       post_AskRedditAfterDark  post_unpopularopinion  post_introvert  \\\n",
       "count              3580.000000            3580.000000     3580.000000   \n",
       "mean                  0.002235               0.171229        0.023743   \n",
       "std                   0.066825               1.189978        0.305021   \n",
       "min                   0.000000               0.000000        0.000000   \n",
       "25%                   0.000000               0.000000        0.000000   \n",
       "50%                   0.000000               0.000000        0.000000   \n",
       "75%                   0.000000               0.000000        0.000000   \n",
       "max                   3.000000              31.000000       13.000000   \n",
       "\n",
       "       post_UnpopularFacts  post_changemyview  post_nihilism  \\\n",
       "count          3580.000000        3580.000000    3580.000000   \n",
       "mean              0.000559           0.015084       0.004190   \n",
       "std               0.023633           0.200018       0.076485   \n",
       "min               0.000000           0.000000       0.000000   \n",
       "25%               0.000000           0.000000       0.000000   \n",
       "50%               0.000000           0.000000       0.000000   \n",
       "75%               0.000000           0.000000       0.000000   \n",
       "max               1.000000           7.000000       2.000000   \n",
       "\n",
       "       post_IntellectualDarkWeb  post_todayilearned  post_banned  post_movies  \\\n",
       "count               3580.000000         3580.000000  3580.000000  3580.000000   \n",
       "mean                   0.000559            0.028212     0.002793     0.027095   \n",
       "std                    0.023633            0.282759     0.052785     0.708857   \n",
       "min                    0.000000            0.000000     0.000000     0.000000   \n",
       "25%                    0.000000            0.000000     0.000000     0.000000   \n",
       "50%                    0.000000            0.000000     0.000000     0.000000   \n",
       "75%                    0.000000            0.000000     0.000000     0.000000   \n",
       "max                    1.000000            7.000000     1.000000    40.000000   \n",
       "\n",
       "       ...  comment_actual_detrans  comment_dearbrother  \\\n",
       "count  ...             3580.000000          3580.000000   \n",
       "mean   ...                0.000279             0.000279   \n",
       "std    ...                0.016713             0.016713   \n",
       "min    ...                0.000000             0.000000   \n",
       "25%    ...                0.000000             0.000000   \n",
       "50%    ...                0.000000             0.000000   \n",
       "75%    ...                0.000000             0.000000   \n",
       "max    ...                1.000000             1.000000   \n",
       "\n",
       "       comment_battlefield_4  comment_fixingmovies  comment_AFD  \\\n",
       "count            3580.000000           3580.000000  3580.000000   \n",
       "mean                0.001676              0.000279     0.000279   \n",
       "std                 0.100279              0.016713     0.016713   \n",
       "min                 0.000000              0.000000     0.000000   \n",
       "25%                 0.000000              0.000000     0.000000   \n",
       "50%                 0.000000              0.000000     0.000000   \n",
       "75%                 0.000000              0.000000     0.000000   \n",
       "max                 6.000000              1.000000     1.000000   \n",
       "\n",
       "       comment_Actage  comment_sariyerbelediyesi  comment_Ben10  \\\n",
       "count     3580.000000                3580.000000    3580.000000   \n",
       "mean         0.000279                   0.000838       0.000279   \n",
       "std          0.016713                   0.050139       0.016713   \n",
       "min          0.000000                   0.000000       0.000000   \n",
       "25%          0.000000                   0.000000       0.000000   \n",
       "50%          0.000000                   0.000000       0.000000   \n",
       "75%          0.000000                   0.000000       0.000000   \n",
       "max          1.000000                   3.000000       1.000000   \n",
       "\n",
       "       comment_MKMemes  comment_PIED  \n",
       "count      3580.000000   3580.000000  \n",
       "mean          0.000838      0.000559  \n",
       "std           0.050139      0.033426  \n",
       "min           0.000000      0.000000  \n",
       "25%           0.000000      0.000000  \n",
       "50%           0.000000      0.000000  \n",
       "75%           0.000000      0.000000  \n",
       "max           3.000000      2.000000  \n",
       "\n",
       "[8 rows x 27090 columns]"
      ]
     },
     "execution_count": 9,
     "metadata": {},
     "output_type": "execute_result"
    }
   ],
   "source": [
    "Digital_footprint.describe()"
   ]
  },
  {
   "cell_type": "markdown",
   "metadata": {},
   "source": [
    "Checking its Data Type, it has unformatted or not"
   ]
  },
  {
   "cell_type": "code",
   "execution_count": 10,
   "metadata": {},
   "outputs": [
    {
     "data": {
      "text/plain": [
       "mbti_type                    object\n",
       "post_AskRedditAfterDark       int64\n",
       "post_unpopularopinion         int64\n",
       "post_introvert                int64\n",
       "post_UnpopularFacts           int64\n",
       "                              ...  \n",
       "comment_Actage                int64\n",
       "comment_sariyerbelediyesi     int64\n",
       "comment_Ben10                 int64\n",
       "comment_MKMemes               int64\n",
       "comment_PIED                  int64\n",
       "Length: 27091, dtype: object"
      ]
     },
     "execution_count": 10,
     "metadata": {},
     "output_type": "execute_result"
    }
   ],
   "source": [
    "Digital_footprint.dtypes"
   ]
  },
  {
   "cell_type": "markdown",
   "metadata": {},
   "source": [
    "        THE PERSONALITY TYPES"
   ]
  },
  {
   "cell_type": "markdown",
   "metadata": {},
   "source": [
    "These numbers show the frequency of each MBTI personality type within your dataset"
   ]
  },
  {
   "cell_type": "code",
   "execution_count": 11,
   "metadata": {},
   "outputs": [
    {
     "data": {
      "text/plain": [
       "mbti_type\n",
       "INTP    790\n",
       "INFP    594\n",
       "INTJ    493\n",
       "ENTP    408\n",
       "INFJ    367\n",
       "ENFP    320\n",
       "ENTJ    148\n",
       "ISTP    147\n",
       "ISFP     77\n",
       "ENFJ     53\n",
       "ISTJ     46\n",
       "ESTP     44\n",
       "ISFJ     32\n",
       "ESFP     29\n",
       "ESTJ     19\n",
       "ESFJ     13\n",
       "Name: count, dtype: int64"
      ]
     },
     "execution_count": 11,
     "metadata": {},
     "output_type": "execute_result"
    }
   ],
   "source": [
    "Digital_footprint['mbti_type'].value_counts()"
   ]
  },
  {
   "cell_type": "markdown",
   "metadata": {},
   "source": [
    " Creating a bar chart to visualize the distribution of MBTI (Myers-Briggs Type Indicator) personality types among a dataset of people who have received tips based on their personality types"
   ]
  },
  {
   "cell_type": "code",
   "execution_count": 12,
   "metadata": {},
   "outputs": [
    {
     "data": {
      "image/png": "[encoded data removed]",
      "text/plain": [
       "<Figure size 1200x600 with 1 Axes>"
      ]
     },
     "metadata": {},
     "output_type": "display_data"
    }
   ],
   "source": [
    "Digital_footprint['mbti_type'].value_counts().plot(kind='bar', figsize=(12, 6), rot=0)\n",
    "plt.xlabel(\"MBTI (Myers-Briggs Type Indicator) PersonalityType\", labelpad=10)\n",
    "plt.ylabel(\"Count of People\", labelpad=10)\n",
    "plt.title(\"Count of People Who Received Tips by their Personality\", y=1.02);\n"
   ]
  },
  {
   "cell_type": "markdown",
   "metadata": {},
   "source": [
    "INTP, which stands for Introverted, Intuitive, Thinking, and Perceiving, is the most common personality type among the surveyed individuals. People with an INTP personality are often characterized as quiet and analytical. They prefer solitude and enjoy contemplating how things function while devising solutions to problems. INTPs have a rich inner world and prioritize their internal thoughts over external matters. They typically maintain a small social circle but form close connections with a select group of individuals.\n",
    "\n",
    "Common career paths associated with INTPs include roles in chemistry, physics, computer programming, forensic science, engineering, mathematics, pharmacy, software development, and geology."
   ]
  },
  {
   "cell_type": "markdown",
   "metadata": {},
   "source": [
    "        TO MAKE DATA UNDERSTANDABLE"
   ]
  },
  {
   "cell_type": "markdown",
   "metadata": {},
   "source": [
    "Naming INTPS as Introversion and types of ENTPS as Extraversion for better Understanding"
   ]
  },
  {
   "cell_type": "code",
   "execution_count": 13,
   "metadata": {},
   "outputs": [],
   "source": [
    "lIntro = ['INTP','INFP','INTJ','INFJ','ISTP','ISFP','ISTJ','ISFJ']\n",
    "for i in lIntro:\n",
    "    Digital_footprint.mbti_type = Digital_footprint.mbti_type.replace(i, \"Introversion\")\n",
    "lExtra = ['ENTP','ENFP','ENTJ','ENFJ','ESTP','ESFP','ESTJ','ESFJ']\n",
    "for i in lExtra:\n",
    "    Digital_footprint.mbti_type = Digital_footprint.mbti_type.replace(i, \"Extraversion\")"
   ]
  },
  {
   "cell_type": "code",
   "execution_count": 14,
   "metadata": {},
   "outputs": [
    {
     "data": {
      "text/html": [
       "<div>\n",
       "<style scoped>\n",
       "    .dataframe tbody tr th:only-of-type {\n",
       "        vertical-align: middle;\n",
       "    }\n",
       "\n",
       "    .dataframe tbody tr th {\n",
       "        vertical-align: top;\n",
       "    }\n",
       "\n",
       "    .dataframe thead th {\n",
       "        text-align: right;\n",
       "    }\n",
       "</style>\n",
       "<table border=\"1\" class=\"dataframe\">\n",
       "  <thead>\n",
       "    <tr style=\"text-align: right;\">\n",
       "      <th></th>\n",
       "      <th>mbti_type</th>\n",
       "      <th>post_AskRedditAfterDark</th>\n",
       "      <th>post_unpopularopinion</th>\n",
       "      <th>post_introvert</th>\n",
       "      <th>post_UnpopularFacts</th>\n",
       "      <th>post_changemyview</th>\n",
       "      <th>post_nihilism</th>\n",
       "      <th>post_IntellectualDarkWeb</th>\n",
       "      <th>post_todayilearned</th>\n",
       "      <th>post_banned</th>\n",
       "      <th>...</th>\n",
       "      <th>comment_actual_detrans</th>\n",
       "      <th>comment_dearbrother</th>\n",
       "      <th>comment_battlefield_4</th>\n",
       "      <th>comment_fixingmovies</th>\n",
       "      <th>comment_AFD</th>\n",
       "      <th>comment_Actage</th>\n",
       "      <th>comment_sariyerbelediyesi</th>\n",
       "      <th>comment_Ben10</th>\n",
       "      <th>comment_MKMemes</th>\n",
       "      <th>comment_PIED</th>\n",
       "    </tr>\n",
       "  </thead>\n",
       "  <tbody>\n",
       "    <tr>\n",
       "      <th>0</th>\n",
       "      <td>Introversion</td>\n",
       "      <td>3</td>\n",
       "      <td>31</td>\n",
       "      <td>3</td>\n",
       "      <td>1</td>\n",
       "      <td>4</td>\n",
       "      <td>1</td>\n",
       "      <td>1</td>\n",
       "      <td>3</td>\n",
       "      <td>1</td>\n",
       "      <td>...</td>\n",
       "      <td>0</td>\n",
       "      <td>0</td>\n",
       "      <td>0</td>\n",
       "      <td>0</td>\n",
       "      <td>0</td>\n",
       "      <td>0</td>\n",
       "      <td>0</td>\n",
       "      <td>0</td>\n",
       "      <td>0</td>\n",
       "      <td>0</td>\n",
       "    </tr>\n",
       "    <tr>\n",
       "      <th>1</th>\n",
       "      <td>Extraversion</td>\n",
       "      <td>0</td>\n",
       "      <td>0</td>\n",
       "      <td>0</td>\n",
       "      <td>0</td>\n",
       "      <td>0</td>\n",
       "      <td>0</td>\n",
       "      <td>0</td>\n",
       "      <td>0</td>\n",
       "      <td>0</td>\n",
       "      <td>...</td>\n",
       "      <td>0</td>\n",
       "      <td>0</td>\n",
       "      <td>0</td>\n",
       "      <td>0</td>\n",
       "      <td>0</td>\n",
       "      <td>0</td>\n",
       "      <td>0</td>\n",
       "      <td>0</td>\n",
       "      <td>0</td>\n",
       "      <td>0</td>\n",
       "    </tr>\n",
       "    <tr>\n",
       "      <th>2</th>\n",
       "      <td>Introversion</td>\n",
       "      <td>0</td>\n",
       "      <td>0</td>\n",
       "      <td>0</td>\n",
       "      <td>0</td>\n",
       "      <td>0</td>\n",
       "      <td>0</td>\n",
       "      <td>0</td>\n",
       "      <td>0</td>\n",
       "      <td>0</td>\n",
       "      <td>...</td>\n",
       "      <td>0</td>\n",
       "      <td>0</td>\n",
       "      <td>0</td>\n",
       "      <td>0</td>\n",
       "      <td>0</td>\n",
       "      <td>0</td>\n",
       "      <td>0</td>\n",
       "      <td>0</td>\n",
       "      <td>0</td>\n",
       "      <td>0</td>\n",
       "    </tr>\n",
       "    <tr>\n",
       "      <th>3</th>\n",
       "      <td>Introversion</td>\n",
       "      <td>0</td>\n",
       "      <td>0</td>\n",
       "      <td>0</td>\n",
       "      <td>0</td>\n",
       "      <td>0</td>\n",
       "      <td>0</td>\n",
       "      <td>0</td>\n",
       "      <td>0</td>\n",
       "      <td>0</td>\n",
       "      <td>...</td>\n",
       "      <td>0</td>\n",
       "      <td>0</td>\n",
       "      <td>0</td>\n",
       "      <td>0</td>\n",
       "      <td>0</td>\n",
       "      <td>0</td>\n",
       "      <td>0</td>\n",
       "      <td>0</td>\n",
       "      <td>0</td>\n",
       "      <td>0</td>\n",
       "    </tr>\n",
       "    <tr>\n",
       "      <th>4</th>\n",
       "      <td>Extraversion</td>\n",
       "      <td>0</td>\n",
       "      <td>0</td>\n",
       "      <td>0</td>\n",
       "      <td>0</td>\n",
       "      <td>0</td>\n",
       "      <td>0</td>\n",
       "      <td>0</td>\n",
       "      <td>0</td>\n",
       "      <td>0</td>\n",
       "      <td>...</td>\n",
       "      <td>0</td>\n",
       "      <td>0</td>\n",
       "      <td>0</td>\n",
       "      <td>0</td>\n",
       "      <td>0</td>\n",
       "      <td>0</td>\n",
       "      <td>0</td>\n",
       "      <td>0</td>\n",
       "      <td>0</td>\n",
       "      <td>0</td>\n",
       "    </tr>\n",
       "  </tbody>\n",
       "</table>\n",
       "<p>5 rows × 27091 columns</p>\n",
       "</div>"
      ],
      "text/plain": [
       "      mbti_type  post_AskRedditAfterDark  post_unpopularopinion  \\\n",
       "0  Introversion                        3                     31   \n",
       "1  Extraversion                        0                      0   \n",
       "2  Introversion                        0                      0   \n",
       "3  Introversion                        0                      0   \n",
       "4  Extraversion                        0                      0   \n",
       "\n",
       "   post_introvert  post_UnpopularFacts  post_changemyview  post_nihilism  \\\n",
       "0               3                    1                  4              1   \n",
       "1               0                    0                  0              0   \n",
       "2               0                    0                  0              0   \n",
       "3               0                    0                  0              0   \n",
       "4               0                    0                  0              0   \n",
       "\n",
       "   post_IntellectualDarkWeb  post_todayilearned  post_banned  ...  \\\n",
       "0                         1                   3            1  ...   \n",
       "1                         0                   0            0  ...   \n",
       "2                         0                   0            0  ...   \n",
       "3                         0                   0            0  ...   \n",
       "4                         0                   0            0  ...   \n",
       "\n",
       "   comment_actual_detrans  comment_dearbrother  comment_battlefield_4  \\\n",
       "0                       0                    0                      0   \n",
       "1                       0                    0                      0   \n",
       "2                       0                    0                      0   \n",
       "3                       0                    0                      0   \n",
       "4                       0                    0                      0   \n",
       "\n",
       "   comment_fixingmovies  comment_AFD  comment_Actage  \\\n",
       "0                     0            0               0   \n",
       "1                     0            0               0   \n",
       "2                     0            0               0   \n",
       "3                     0            0               0   \n",
       "4                     0            0               0   \n",
       "\n",
       "   comment_sariyerbelediyesi  comment_Ben10  comment_MKMemes  comment_PIED  \n",
       "0                          0              0                0             0  \n",
       "1                          0              0                0             0  \n",
       "2                          0              0                0             0  \n",
       "3                          0              0                0             0  \n",
       "4                          0              0                0             0  \n",
       "\n",
       "[5 rows x 27091 columns]"
      ]
     },
     "execution_count": 14,
     "metadata": {},
     "output_type": "execute_result"
    }
   ],
   "source": [
    "Digital_footprint.head()"
   ]
  },
  {
   "cell_type": "markdown",
   "metadata": {},
   "source": [
    "Converting Categorical Data into Binary, 1 represents  Extraversion and 0 represents Introversion "
   ]
  },
  {
   "cell_type": "code",
   "execution_count": 15,
   "metadata": {},
   "outputs": [
    {
     "data": {
      "text/html": [
       "<div>\n",
       "<style scoped>\n",
       "    .dataframe tbody tr th:only-of-type {\n",
       "        vertical-align: middle;\n",
       "    }\n",
       "\n",
       "    .dataframe tbody tr th {\n",
       "        vertical-align: top;\n",
       "    }\n",
       "\n",
       "    .dataframe thead th {\n",
       "        text-align: right;\n",
       "    }\n",
       "</style>\n",
       "<table border=\"1\" class=\"dataframe\">\n",
       "  <thead>\n",
       "    <tr style=\"text-align: right;\">\n",
       "      <th></th>\n",
       "      <th>mbti_type</th>\n",
       "      <th>post_AskRedditAfterDark</th>\n",
       "      <th>post_unpopularopinion</th>\n",
       "      <th>post_introvert</th>\n",
       "      <th>post_UnpopularFacts</th>\n",
       "      <th>post_changemyview</th>\n",
       "      <th>post_nihilism</th>\n",
       "      <th>post_IntellectualDarkWeb</th>\n",
       "      <th>post_todayilearned</th>\n",
       "      <th>post_banned</th>\n",
       "      <th>...</th>\n",
       "      <th>comment_actual_detrans</th>\n",
       "      <th>comment_dearbrother</th>\n",
       "      <th>comment_battlefield_4</th>\n",
       "      <th>comment_fixingmovies</th>\n",
       "      <th>comment_AFD</th>\n",
       "      <th>comment_Actage</th>\n",
       "      <th>comment_sariyerbelediyesi</th>\n",
       "      <th>comment_Ben10</th>\n",
       "      <th>comment_MKMemes</th>\n",
       "      <th>comment_PIED</th>\n",
       "    </tr>\n",
       "  </thead>\n",
       "  <tbody>\n",
       "    <tr>\n",
       "      <th>0</th>\n",
       "      <td>0</td>\n",
       "      <td>3</td>\n",
       "      <td>31</td>\n",
       "      <td>3</td>\n",
       "      <td>1</td>\n",
       "      <td>4</td>\n",
       "      <td>1</td>\n",
       "      <td>1</td>\n",
       "      <td>3</td>\n",
       "      <td>1</td>\n",
       "      <td>...</td>\n",
       "      <td>0</td>\n",
       "      <td>0</td>\n",
       "      <td>0</td>\n",
       "      <td>0</td>\n",
       "      <td>0</td>\n",
       "      <td>0</td>\n",
       "      <td>0</td>\n",
       "      <td>0</td>\n",
       "      <td>0</td>\n",
       "      <td>0</td>\n",
       "    </tr>\n",
       "    <tr>\n",
       "      <th>1</th>\n",
       "      <td>1</td>\n",
       "      <td>0</td>\n",
       "      <td>0</td>\n",
       "      <td>0</td>\n",
       "      <td>0</td>\n",
       "      <td>0</td>\n",
       "      <td>0</td>\n",
       "      <td>0</td>\n",
       "      <td>0</td>\n",
       "      <td>0</td>\n",
       "      <td>...</td>\n",
       "      <td>0</td>\n",
       "      <td>0</td>\n",
       "      <td>0</td>\n",
       "      <td>0</td>\n",
       "      <td>0</td>\n",
       "      <td>0</td>\n",
       "      <td>0</td>\n",
       "      <td>0</td>\n",
       "      <td>0</td>\n",
       "      <td>0</td>\n",
       "    </tr>\n",
       "    <tr>\n",
       "      <th>2</th>\n",
       "      <td>0</td>\n",
       "      <td>0</td>\n",
       "      <td>0</td>\n",
       "      <td>0</td>\n",
       "      <td>0</td>\n",
       "      <td>0</td>\n",
       "      <td>0</td>\n",
       "      <td>0</td>\n",
       "      <td>0</td>\n",
       "      <td>0</td>\n",
       "      <td>...</td>\n",
       "      <td>0</td>\n",
       "      <td>0</td>\n",
       "      <td>0</td>\n",
       "      <td>0</td>\n",
       "      <td>0</td>\n",
       "      <td>0</td>\n",
       "      <td>0</td>\n",
       "      <td>0</td>\n",
       "      <td>0</td>\n",
       "      <td>0</td>\n",
       "    </tr>\n",
       "    <tr>\n",
       "      <th>3</th>\n",
       "      <td>0</td>\n",
       "      <td>0</td>\n",
       "      <td>0</td>\n",
       "      <td>0</td>\n",
       "      <td>0</td>\n",
       "      <td>0</td>\n",
       "      <td>0</td>\n",
       "      <td>0</td>\n",
       "      <td>0</td>\n",
       "      <td>0</td>\n",
       "      <td>...</td>\n",
       "      <td>0</td>\n",
       "      <td>0</td>\n",
       "      <td>0</td>\n",
       "      <td>0</td>\n",
       "      <td>0</td>\n",
       "      <td>0</td>\n",
       "      <td>0</td>\n",
       "      <td>0</td>\n",
       "      <td>0</td>\n",
       "      <td>0</td>\n",
       "    </tr>\n",
       "    <tr>\n",
       "      <th>4</th>\n",
       "      <td>1</td>\n",
       "      <td>0</td>\n",
       "      <td>0</td>\n",
       "      <td>0</td>\n",
       "      <td>0</td>\n",
       "      <td>0</td>\n",
       "      <td>0</td>\n",
       "      <td>0</td>\n",
       "      <td>0</td>\n",
       "      <td>0</td>\n",
       "      <td>...</td>\n",
       "      <td>0</td>\n",
       "      <td>0</td>\n",
       "      <td>0</td>\n",
       "      <td>0</td>\n",
       "      <td>0</td>\n",
       "      <td>0</td>\n",
       "      <td>0</td>\n",
       "      <td>0</td>\n",
       "      <td>0</td>\n",
       "      <td>0</td>\n",
       "    </tr>\n",
       "  </tbody>\n",
       "</table>\n",
       "<p>5 rows × 27091 columns</p>\n",
       "</div>"
      ],
      "text/plain": [
       "   mbti_type  post_AskRedditAfterDark  post_unpopularopinion  post_introvert  \\\n",
       "0          0                        3                     31               3   \n",
       "1          1                        0                      0               0   \n",
       "2          0                        0                      0               0   \n",
       "3          0                        0                      0               0   \n",
       "4          1                        0                      0               0   \n",
       "\n",
       "   post_UnpopularFacts  post_changemyview  post_nihilism  \\\n",
       "0                    1                  4              1   \n",
       "1                    0                  0              0   \n",
       "2                    0                  0              0   \n",
       "3                    0                  0              0   \n",
       "4                    0                  0              0   \n",
       "\n",
       "   post_IntellectualDarkWeb  post_todayilearned  post_banned  ...  \\\n",
       "0                         1                   3            1  ...   \n",
       "1                         0                   0            0  ...   \n",
       "2                         0                   0            0  ...   \n",
       "3                         0                   0            0  ...   \n",
       "4                         0                   0            0  ...   \n",
       "\n",
       "   comment_actual_detrans  comment_dearbrother  comment_battlefield_4  \\\n",
       "0                       0                    0                      0   \n",
       "1                       0                    0                      0   \n",
       "2                       0                    0                      0   \n",
       "3                       0                    0                      0   \n",
       "4                       0                    0                      0   \n",
       "\n",
       "   comment_fixingmovies  comment_AFD  comment_Actage  \\\n",
       "0                     0            0               0   \n",
       "1                     0            0               0   \n",
       "2                     0            0               0   \n",
       "3                     0            0               0   \n",
       "4                     0            0               0   \n",
       "\n",
       "   comment_sariyerbelediyesi  comment_Ben10  comment_MKMemes  comment_PIED  \n",
       "0                          0              0                0             0  \n",
       "1                          0              0                0             0  \n",
       "2                          0              0                0             0  \n",
       "3                          0              0                0             0  \n",
       "4                          0              0                0             0  \n",
       "\n",
       "[5 rows x 27091 columns]"
      ]
     },
     "execution_count": 15,
     "metadata": {},
     "output_type": "execute_result"
    }
   ],
   "source": [
    "Digital_footprint.mbti_type = Digital_footprint.mbti_type.replace({'Extraversion':1,'Introversion':0})\n",
    "\n",
    "Digital_footprint.head()"
   ]
  },
  {
   "cell_type": "markdown",
   "metadata": {},
   "source": [
    "        \n",
    "    PREPROCESSING THE DATA"
   ]
  },
  {
   "cell_type": "markdown",
   "metadata": {},
   "source": [
    "The first preprocessing step is to divide the dataset into a features set and corresponding personality type."
   ]
  },
  {
   "cell_type": "code",
   "execution_count": 16,
   "metadata": {},
   "outputs": [],
   "source": [
    "X = Digital_footprint.iloc[:,1:].values\n",
    "y = Digital_footprint.iloc[:,0].values\n"
   ]
  },
  {
   "cell_type": "markdown",
   "metadata": {},
   "source": [
    "Standard Scaler \n",
    "\n",
    "StandardScaler transform your data such that its distribution will have a mean value 0 and standard deviation of 1.\n",
    "\n",
    "Standard Scaler is useful for classification.\n",
    "it's transform the data between [-1,1]"
   ]
  },
  {
   "cell_type": "code",
   "execution_count": 17,
   "metadata": {},
   "outputs": [],
   "source": [
    "X = StandardScaler().fit_transform(X) "
   ]
  },
  {
   "cell_type": "markdown",
   "metadata": {},
   "source": [
    "Principal Component Analysis"
   ]
  },
  {
   "cell_type": "markdown",
   "metadata": {},
   "source": [
    "PCA’s goal is to reduce the curse of dimensionality. It will reduce the features in such a way that it retains most principal information of the features in its principal components."
   ]
  },
  {
   "cell_type": "code",
   "execution_count": 18,
   "metadata": {},
   "outputs": [],
   "source": [
    "pca = PCA()\n",
    "X = pca.fit_transform(X)"
   ]
  },
  {
   "cell_type": "markdown",
   "metadata": {},
   "source": [
    "            SPLITING THE DATA INTO TRAIN AND TEST SETS"
   ]
  },
  {
   "cell_type": "markdown",
   "metadata": {},
   "source": [
    "The next preprocessing step is to divide data into training and test sets"
   ]
  },
  {
   "cell_type": "code",
   "execution_count": 19,
   "metadata": {},
   "outputs": [],
   "source": [
    "X_train, X_test, y_train, y_test = train_test_split(X, y, test_size=0.2, random_state=0)\n"
   ]
  },
  {
   "cell_type": "markdown",
   "metadata": {},
   "source": [
    "        CLASSIFICATION MODEL ALGORITHM"
   ]
  },
  {
   "cell_type": "markdown",
   "metadata": {},
   "source": [
    "                    Logistic Regression"
   ]
  },
  {
   "cell_type": "markdown",
   "metadata": {},
   "source": [
    "\n",
    "Logistic Regression is used when the dependent variable(target) is categorical\n",
    "\n",
    "Like in our case  Extraversion:1, Introversion:0"
   ]
  },
  {
   "cell_type": "code",
   "execution_count": 20,
   "metadata": {},
   "outputs": [
    {
     "name": "stdout",
     "output_type": "stream",
     "text": [
      "Logistic Regression Accuracy 0.7737430167597765\n"
     ]
    }
   ],
   "source": [
    "lrg = LogisticRegression()\n",
    "lrg.fit(X_train, y_train)\n",
    "y_pred = lrg.predict(X_test)\n",
    "print('Logistic Regression Accuracy' , accuracy_score(y_test, y_pred))"
   ]
  },
  {
   "cell_type": "markdown",
   "metadata": {},
   "source": [
    "                Linear Discriminant Analysis"
   ]
  },
  {
   "cell_type": "markdown",
   "metadata": {},
   "source": [
    "Linear discriminant analysis is used as a tool for classification, dimension reduction, and data visualization. It has been around for quite some time now. Despite its simplicity, LDA often produces robust, decent, and interpretable classification results."
   ]
  },
  {
   "cell_type": "code",
   "execution_count": 21,
   "metadata": {},
   "outputs": [
    {
     "name": "stdout",
     "output_type": "stream",
     "text": [
      "LinearDiscriminantAnalysis Accuracy 0.7332402234636871\n"
     ]
    }
   ],
   "source": [
    "lda = LinearDiscriminantAnalysis()\n",
    "lda.fit(X_train, y_train)\n",
    "y_pred = lda.predict(X_test)\n",
    "print('LinearDiscriminantAnalysis Accuracy' , accuracy_score(y_test, y_pred))"
   ]
  },
  {
   "cell_type": "markdown",
   "metadata": {},
   "source": [
    "        Gaussian Naive Bayes"
   ]
  },
  {
   "cell_type": "markdown",
   "metadata": {},
   "source": [
    "Naive Bayes is a classification algorithm for binary and multi-class classification problems. The technique is easiest to understand when described using binary or categorical input values."
   ]
  },
  {
   "cell_type": "code",
   "execution_count": 22,
   "metadata": {},
   "outputs": [
    {
     "name": "stdout",
     "output_type": "stream",
     "text": [
      "Gaussian Naîve Bayes Accuracy 0.5293296089385475\n"
     ]
    }
   ],
   "source": [
    "from sklearn.naive_bayes import GaussianNB\n",
    "gb = GaussianNB()\n",
    "gb.fit(X_train, y_train)\n",
    "y_pred = gb.predict(X_test)\n",
    "print('Gaussian Naîve Bayes Accuracy' , accuracy_score(y_test, y_pred))"
   ]
  },
  {
   "cell_type": "markdown",
   "metadata": {},
   "source": [
    "                 Random Forest Classifier"
   ]
  },
  {
   "cell_type": "markdown",
   "metadata": {},
   "source": [
    "The Random Forest Classifier is a set of decision trees from randomly selected subset of training set. It aggregates the votes from different decision trees to decide the final class of the test object."
   ]
  },
  {
   "cell_type": "code",
   "execution_count": 23,
   "metadata": {},
   "outputs": [
    {
     "name": "stdout",
     "output_type": "stream",
     "text": [
      "Random Forest Classifier Accuracy 0.7346368715083799\n"
     ]
    }
   ],
   "source": [
    "from sklearn.ensemble import RandomForestClassifier\n",
    "\n",
    "rfc = RandomForestClassifier(max_depth=2, random_state=0)\n",
    "rfc.fit(X_train, y_train)\n",
    "\n",
    "# Predicting the Test set results\n",
    "y_pred = rfc.predict(X_test)\n",
    "print('Random Forest Classifier Accuracy' , accuracy_score(y_test, y_pred))"
   ]
  },
  {
   "cell_type": "markdown",
   "metadata": {},
   "source": [
    "            Support Vector Classifier"
   ]
  },
  {
   "cell_type": "markdown",
   "metadata": {},
   "source": [
    "Support vector machines Classifier (SVMs) are a set of supervised learning methods used for classification, regression and outliers detection.\n",
    "\n",
    "I will use it because of its advantages:\n",
    "\n",
    "Effective in high dimensional spaces.\n",
    "\n",
    "Still effective in cases where number of dimensions is greater than the number of samples."
   ]
  },
  {
   "cell_type": "code",
   "execution_count": 24,
   "metadata": {},
   "outputs": [
    {
     "name": "stdout",
     "output_type": "stream",
     "text": [
      "Accuracy Suport Vector Classifier 0.7346368715083799\n"
     ]
    }
   ],
   "source": [
    "from sklearn.svm import SVC\n",
    "svc = SVC()\n",
    "svc.fit(X_train, y_train)\n",
    "y_pred = svc.predict(X_test)\n",
    "print('Accuracy Suport Vector Classifier' , accuracy_score(y_test, y_pred))"
   ]
  },
  {
   "cell_type": "markdown",
   "metadata": {},
   "source": [
    "        Decision Tree"
   ]
  },
  {
   "cell_type": "markdown",
   "metadata": {},
   "source": [
    "Decision Trees Classifiers are a type of Supervised Machine Learning meaning we build a model, we feed training data matched with correct outputs and then we let the model learn from these patterns. Then we give our model new data that it hasn't seen before so that we can see how it performs. And because we need to see what exactly is to be trained for a Decision Tree, let's see what exactly a decision tree is."
   ]
  },
  {
   "cell_type": "code",
   "execution_count": 25,
   "metadata": {},
   "outputs": [
    {
     "name": "stdout",
     "output_type": "stream",
     "text": [
      "Accuracy Decision Tree Classifier 0.6340782122905028\n"
     ]
    }
   ],
   "source": [
    "from sklearn.tree import DecisionTreeClassifier\n",
    "dtc = DecisionTreeClassifier()\n",
    "dtc.fit(X_train, y_train)\n",
    "y_pred = dtc.predict(X_test)\n",
    "print('Accuracy Decision Tree Classifier' , accuracy_score(y_test, y_pred))"
   ]
  },
  {
   "cell_type": "markdown",
   "metadata": {},
   "source": [
    "        KNeighbor Classifier"
   ]
  },
  {
   "cell_type": "markdown",
   "metadata": {},
   "source": [
    "K-Nearest Neighbor is a supervised learning algorithm that can be used for regression as well as classification problems. But KNN is widely used for classification problems in machine learning. KNN works on a principle assuming that every data point falling near to each other will fall in the same class. That means similar things are near to each other."
   ]
  },
  {
   "cell_type": "code",
   "execution_count": 26,
   "metadata": {},
   "outputs": [
    {
     "name": "stdout",
     "output_type": "stream",
     "text": [
      "Accuracy KNeighbors Classifier 0.7807262569832403\n"
     ]
    }
   ],
   "source": [
    "from sklearn.neighbors import KNeighborsClassifier\n",
    "knc = KNeighborsClassifier()\n",
    "knc.fit(X_train, y_train)\n",
    "y_pred = knc.predict(X_test)\n",
    "print('Accuracy KNeighbors Classifier' , accuracy_score(y_test, y_pred))"
   ]
  },
  {
   "cell_type": "markdown",
   "metadata": {},
   "source": [
    "we can see that the accuracy of our classification algorithms does not exceed the accuracy of 70%. And if we try to create a deeper model then what will be our precision "
   ]
  },
  {
   "cell_type": "markdown",
   "metadata": {},
   "source": [
    "            Neural Network With Keras"
   ]
  },
  {
   "cell_type": "markdown",
   "metadata": {},
   "source": [
    "Before we begin on building our model, we need to know the input dimension of our feature vectors. This happens only in the first layer since the following layers can do automatic shape inference."
   ]
  },
  {
   "cell_type": "code",
   "execution_count": 27,
   "metadata": {},
   "outputs": [],
   "source": [
    "from keras.models import Sequential\n",
    "from keras import layers\n",
    "\n",
    "input_dim = X_train.shape[1]\n",
    "\n",
    "model = Sequential()\n",
    "model.add(layers.Dense(10, input_dim=input_dim, activation='relu'))\n",
    "model.add(layers.Dense(1, activation='sigmoid'))"
   ]
  },
  {
   "cell_type": "markdown",
   "metadata": {},
   "source": [
    "Before we begin on building our model, we need to know the input dimension of our feature vectors. This happens only in the first layer since the following layers can do automatic shape inference."
   ]
  },
  {
   "cell_type": "code",
   "execution_count": 28,
   "metadata": {},
   "outputs": [
    {
     "name": "stdout",
     "output_type": "stream",
     "text": [
      "Model: \"sequential\"\n",
      "_________________________________________________________________\n",
      " Layer (type)                Output Shape              Param #   \n",
      "=================================================================\n",
      " dense (Dense)               (None, 10)                35810     \n",
      "                                                                 \n",
      " dense_1 (Dense)             (None, 1)                 11        \n",
      "                                                                 \n",
      "=================================================================\n",
      "Total params: 35821 (139.93 KB)\n",
      "Trainable params: 35821 (139.93 KB)\n",
      "Non-trainable params: 0 (0.00 Byte)\n",
      "_________________________________________________________________\n"
     ]
    }
   ],
   "source": [
    "model.compile(loss='binary_crossentropy', \n",
    "               optimizer='adam', \n",
    "               metrics=['accuracy'])\n",
    "model.summary()"
   ]
  },
  {
   "cell_type": "markdown",
   "metadata": {},
   "source": [
    "Visualization of Accuracy test "
   ]
  },
  {
   "cell_type": "code",
   "execution_count": 29,
   "metadata": {},
   "outputs": [
    {
     "data": {
      "image/png": "[encoded data removed]",
      "text/plain": [
       "<Figure size 1000x600 with 1 Axes>"
      ]
     },
     "metadata": {},
     "output_type": "display_data"
    }
   ],
   "source": [
    "classifiers = [\"Logistic Regression\", \"LinearDiscriminantAnalysis\", \"Gaussian Naïve Bayes\", \"Random Forest Classifier\", \"Support Vector Classifier\", \"Decision Tree Classifier\", \"KNeighbors Classifier\"]\n",
    "accuracy_scores = [accuracy_score(y_test, lrg.predict(X_test)), \n",
    "                   accuracy_score(y_test, lda.predict(X_test)), \n",
    "                   accuracy_score(y_test, gb.predict(X_test)), \n",
    "                   accuracy_score(y_test, rfc.predict(X_test)), \n",
    "                   accuracy_score(y_test, svc.predict(X_test)), \n",
    "                   accuracy_score(y_test, dtc.predict(X_test)), \n",
    "                   accuracy_score(y_test, knc.predict(X_test))]\n",
    "\n",
    "accuracy_percentages = [score * 100 for score in accuracy_scores]\n",
    "\n",
    "\n",
    "plt.figure(figsize=(10, 6))\n",
    "plt.barh(classifiers, accuracy_percentages)\n",
    "plt.xlabel('Accuracy (%)')\n",
    "plt.title('Classifier Accuracy Comparison')\n",
    "plt.xlim(0.0, 100.0)  \n",
    "plt.gca().invert_yaxis()  \n",
    "plt.grid(axis='x', linestyle='--', alpha=0.6)  \n",
    "\n",
    "for i, percentage in enumerate(accuracy_percentages):\n",
    "    plt.text(percentage + 1, i, f'{percentage:.2f}%', va='center')\n",
    "\n",
    "plt.show()\n"
   ]
  },
  {
   "cell_type": "markdown",
   "metadata": {},
   "source": [
    "In neural network training, we use the .fit() function with 100 epochs to monitor changes in training loss and accuracy over time. The batch size, which determines how many samples are processed in each step, should be kept small due to our small training set."
   ]
  },
  {
   "cell_type": "code",
   "execution_count": 31,
   "metadata": {},
   "outputs": [],
   "source": [
    "history = model.fit(X_train, y_train,\n",
    "                     epochs= 30,\n",
    "                     verbose=False,\n",
    "                     validation_data=(X_test, y_test),\n",
    "                     batch_size=10)"
   ]
  },
  {
   "cell_type": "markdown",
   "metadata": {},
   "source": [
    "Now it's time for evaluation .evaluate() method measure the accuracy of the model. You can do this both for the training data and testing data. We expect that the training data has a higher accuracy then for the testing data. The longer you would train a neural network, the more likely it is that it starts overfitting."
   ]
  },
  {
   "cell_type": "code",
   "execution_count": 32,
   "metadata": {},
   "outputs": [
    {
     "name": "stdout",
     "output_type": "stream",
     "text": [
      "Training Accuracy: 0.9399\n",
      "Testing Accuracy:  0.6355\n"
     ]
    }
   ],
   "source": [
    "loss, accuracy = model.evaluate(X_train, y_train, verbose=False)\n",
    "print(\"Training Accuracy: {:.4f}\".format(accuracy))\n",
    "loss, accuracy = model.evaluate(X_test, y_test, verbose=False)\n",
    "print(\"Testing Accuracy:  {:.4f}\".format(accuracy))"
   ]
  },
  {
   "cell_type": "markdown",
   "metadata": {},
   "source": [
    "        Access Model Training History in Keras"
   ]
  },
  {
   "cell_type": "markdown",
   "metadata": {},
   "source": [
    "Keras provides the capability to register callbacks when training a deep learning model.\n",
    "\n",
    "One of the default callbacks that is registered when training all deep learning models is the History callback. It records training metrics for each epoch. This includes the loss and the accuracy (for classification problems) as well as the loss and accuracy for the validation dataset."
   ]
  },
  {
   "cell_type": "code",
   "execution_count": 33,
   "metadata": {},
   "outputs": [
    {
     "name": "stdout",
     "output_type": "stream",
     "text": [
      "dict_keys(['loss', 'accuracy', 'val_loss', 'val_accuracy'])\n"
     ]
    }
   ],
   "source": [
    "print(history.history.keys())"
   ]
  },
  {
   "cell_type": "markdown",
   "metadata": {},
   "source": [
    " Using this little helper function to visualize the loss and the accuracy for the training and testing data both based on the History callback. This callback, which is automatically applied to each Keras model, records the loss and additional metrics that can be added in the .fit() method. In this case, we are only interested in the accuracy. We will try to complete the task by using the matplotlib plotting library:"
   ]
  },
  {
   "cell_type": "code",
   "execution_count": 38,
   "metadata": {},
   "outputs": [
    {
     "data": {
      "image/png": "[encoded data removed]",
      "text/plain": [
       "<Figure size 1400x500 with 2 Axes>"
      ]
     },
     "metadata": {},
     "output_type": "display_data"
    }
   ],
   "source": [
    "plt.style.use('ggplot')\n",
    "\n",
    "def plot_history(history):\n",
    "    acc = history.history['accuracy']\n",
    "    val_acc = history.history['val_accuracy']\n",
    "    loss = history.history['loss']\n",
    "    val_loss = history.history['val_loss']\n",
    "    x = range(1, len(acc) + 1)\n",
    "\n",
    "    plt.figure(figsize=(14, 5))\n",
    "    plt.subplot(1, 2, 1)\n",
    "    plt.plot(x, acc, 'b', label='Training acc')\n",
    "    plt.plot(x, val_acc, 'r', label='Validation acc')\n",
    "    plt.title('Training and validation accuracy')\n",
    "    plt.legend()\n",
    "    plt.subplot(1, 2, 2)\n",
    "    plt.plot(x, loss, 'b', label='Training loss')\n",
    "    plt.plot(x, val_loss, 'r', label='Validation loss')\n",
    "    plt.title('Training and validation loss')\n",
    "    plt.legend()\n",
    "plot_history(history)"
   ]
  },
  {
   "cell_type": "markdown",
   "metadata": {},
   "source": [
    "Let's analys the accuracy model : As you can see in the diagram, the accuracy increases unbelievably in the first epoch, indicating that the network is learning fast. Afterwards, the curve flattens indicating that not too many epochs are required to train the model further. Generally, if the training data accuracy (“accuracy”) keeps improving and the validation data accuracy (“val_acc”) gets decreasing which is a good thing.\n",
    "\n",
    "A good way to see when the model starts overfitting is when the loss of the validation data starts rising again. This tends to be a good point to stop the mode"
   ]
  },
  {
   "cell_type": "code",
   "execution_count": 39,
   "metadata": {},
   "outputs": [
    {
     "name": "stdout",
     "output_type": "stream",
     "text": [
      "(2864, 3580)\n",
      "(2864,)\n",
      "(716,)\n"
     ]
    }
   ],
   "source": [
    "print(X_train.shape)\n",
    "print(y_train.shape)\n",
    "print(y_pred.shape)"
   ]
  },
  {
   "cell_type": "code",
   "execution_count": 40,
   "metadata": {},
   "outputs": [
    {
     "data": {
      "text/html": [
       "<div>\n",
       "<style scoped>\n",
       "    .dataframe tbody tr th:only-of-type {\n",
       "        vertical-align: middle;\n",
       "    }\n",
       "\n",
       "    .dataframe tbody tr th {\n",
       "        vertical-align: top;\n",
       "    }\n",
       "\n",
       "    .dataframe thead th {\n",
       "        text-align: right;\n",
       "    }\n",
       "</style>\n",
       "<table border=\"1\" class=\"dataframe\">\n",
       "  <thead>\n",
       "    <tr style=\"text-align: right;\">\n",
       "      <th></th>\n",
       "      <th>mbti</th>\n",
       "      <th>predicted_value</th>\n",
       "    </tr>\n",
       "  </thead>\n",
       "  <tbody>\n",
       "    <tr>\n",
       "      <th>711</th>\n",
       "      <td>1</td>\n",
       "      <td>1</td>\n",
       "    </tr>\n",
       "    <tr>\n",
       "      <th>712</th>\n",
       "      <td>0</td>\n",
       "      <td>0</td>\n",
       "    </tr>\n",
       "    <tr>\n",
       "      <th>713</th>\n",
       "      <td>0</td>\n",
       "      <td>0</td>\n",
       "    </tr>\n",
       "    <tr>\n",
       "      <th>714</th>\n",
       "      <td>0</td>\n",
       "      <td>0</td>\n",
       "    </tr>\n",
       "    <tr>\n",
       "      <th>715</th>\n",
       "      <td>0</td>\n",
       "      <td>1</td>\n",
       "    </tr>\n",
       "  </tbody>\n",
       "</table>\n",
       "</div>"
      ],
      "text/plain": [
       "     mbti  predicted_value\n",
       "711     1                1\n",
       "712     0                0\n",
       "713     0                0\n",
       "714     0                0\n",
       "715     0                1"
      ]
     },
     "execution_count": 40,
     "metadata": {},
     "output_type": "execute_result"
    }
   ],
   "source": [
    "Result_file = pd.DataFrame({'mbti': y_test[:], 'predicted_value': y_pred})\n",
    "Result_file.tail()\n"
   ]
  },
  {
   "cell_type": "code",
   "execution_count": 41,
   "metadata": {},
   "outputs": [
    {
     "data": {
      "text/plain": [
       "predicted_value\n",
       "0    671\n",
       "1     45\n",
       "Name: count, dtype: int64"
      ]
     },
     "execution_count": 41,
     "metadata": {},
     "output_type": "execute_result"
    }
   ],
   "source": [
    "Result_file.predicted_value.value_counts()"
   ]
  }
 ],
 "metadata": {
  "kernelspec": {
   "display_name": "Python 3",
   "language": "python",
   "name": "python3"
  },
  "language_info": {
   "codemirror_mode": {
    "name": "ipython",
    "version": 3
   },
   "file_extension": ".py",
   "mimetype": "text/x-python",
   "name": "python",
   "nbconvert_exporter": "python",
   "pygments_lexer": "ipython3",
   "version": "3.11.4"
  },
  "orig_nbformat": 4
 },
 "nbformat": 4,
 "nbformat_minor": 2
}
